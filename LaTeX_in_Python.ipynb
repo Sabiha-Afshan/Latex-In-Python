{
 "cells": [
  {
   "cell_type": "markdown",
   "id": "ff2158ea",
   "metadata": {},
   "source": [
    "# Latex for Python🚀"
   ]
  },
  {
   "cell_type": "code",
   "execution_count": 1,
   "id": "f7cfe770",
   "metadata": {},
   "outputs": [
    {
     "name": "stdout",
     "output_type": "stream",
     "text": [
      "Requirement already satisfied: latexify-py in c:\\users\\sabih\\anaconda3\\lib\\site-packages (0.4.2)\n",
      "Requirement already satisfied: dill>=0.3.2 in c:\\users\\sabih\\anaconda3\\lib\\site-packages (from latexify-py) (0.3.6)\n",
      "Note: you may need to restart the kernel to use updated packages.\n"
     ]
    }
   ],
   "source": [
    "%pip install latexify-py"
   ]
  },
  {
   "cell_type": "code",
   "execution_count": 2,
   "id": "e94d900f",
   "metadata": {},
   "outputs": [
    {
     "name": "stdout",
     "output_type": "stream",
     "text": [
      "Requirement already satisfied: sympy in c:\\users\\sabih\\anaconda3\\lib\\site-packages (1.11.1)\n",
      "Requirement already satisfied: mpmath>=0.19 in c:\\users\\sabih\\anaconda3\\lib\\site-packages (from sympy) (1.3.0)\n",
      "Note: you may need to restart the kernel to use updated packages.\n"
     ]
    }
   ],
   "source": [
    "pip install sympy"
   ]
  },
  {
   "cell_type": "code",
   "execution_count": 3,
   "id": "fbce5f86",
   "metadata": {},
   "outputs": [
    {
     "data": {
      "text/plain": [
       "'0.4.2'"
      ]
     },
     "execution_count": 3,
     "metadata": {},
     "output_type": "execute_result"
    }
   ],
   "source": [
    "import math\n",
    "import latexify\n",
    "\n",
    "latexify.__version__"
   ]
  },
  {
   "cell_type": "code",
   "execution_count": 4,
   "id": "c41a8538",
   "metadata": {},
   "outputs": [
    {
     "data": {
      "text/latex": [
       "$$ \\displaystyle \\mathrm{quadratic\\_root}(a, b, c) = \\frac{-b + \\sqrt{ b^{2} - 4 a c }}{2 a} $$"
      ],
      "text/plain": [
       "<latexify.ipython_wrappers.LatexifiedFunction at 0x298c61c3ad0>"
      ]
     },
     "execution_count": 4,
     "metadata": {},
     "output_type": "execute_result"
    }
   ],
   "source": [
    "# LaTeX representation of the quadratic_root function to generate single root inside quadratic formula\n",
    "@latexify.function\n",
    "def quadratic_root(a,b,c):\n",
    "    return (-b + math.sqrt(b**2 - 4*a*c))/(2*a)\n",
    "quadratic_root"
   ]
  },
  {
   "cell_type": "code",
   "execution_count": 5,
   "id": "a0c29a3b",
   "metadata": {},
   "outputs": [
    {
     "data": {
      "text/latex": [
       "$$ \\displaystyle \\mathrm{sinc}(x) = \\left\\{ \\begin{array}{ll} 1, & \\mathrm{if} \\ x = 0 \\\\ \\frac{\\sin x}{x}, & \\mathrm{otherwise} \\end{array} \\right. $$"
      ],
      "text/plain": [
       "<latexify.ipython_wrappers.LatexifiedFunction at 0x298c61ce410>"
      ]
     },
     "execution_count": 5,
     "metadata": {},
     "output_type": "execute_result"
    }
   ],
   "source": [
    "# LaTeX representation of the sinc function\n",
    "@latexify.function\n",
    "def sinc(x):\n",
    "  if x == 0:\n",
    "    return 1\n",
    "  else:\n",
    "    return math.sin(x) / x\n",
    "\n",
    "sinc"
   ]
  },
  {
   "cell_type": "code",
   "execution_count": 6,
   "id": "30c08097",
   "metadata": {},
   "outputs": [
    {
     "data": {
      "text/latex": [
       "$$ \\displaystyle \\mathrm{fib}(x) = \\left\\{ \\begin{array}{ll} 0, & \\mathrm{if} \\ x = 0 \\\\ 1, & \\mathrm{if} \\ x = 1 \\\\ \\mathrm{fib} \\mathopen{}\\left( x - 1 \\mathclose{}\\right) + \\mathrm{fib} \\mathopen{}\\left( x - 2 \\mathclose{}\\right), & \\mathrm{otherwise} \\end{array} \\right. $$"
      ],
      "text/plain": [
       "<latexify.ipython_wrappers.LatexifiedFunction at 0x298c606f6d0>"
      ]
     },
     "execution_count": 6,
     "metadata": {},
     "output_type": "execute_result"
    }
   ],
   "source": [
    "# LaTeX representation of the Fibonacci sequence generator\n",
    "# Autmatically unrolls elif or nested else-if\n",
    "@latexify.function\n",
    "def fib(x):\n",
    "  if x == 0:\n",
    "    return 0\n",
    "  elif x == 1:\n",
    "    return 1\n",
    "  else:\n",
    "    return fib(x-1) + fib(x-2)\n",
    "\n",
    "fib"
   ]
  },
  {
   "cell_type": "code",
   "execution_count": 7,
   "id": "28464fa8",
   "metadata": {},
   "outputs": [
    {
     "data": {
      "text/latex": [
       "$$ \\displaystyle \\mathrm{greek}(\\alpha, \\beta, \\gamma, \\Omega) = \\alpha \\beta + \\Gamma \\mathopen{}\\left( \\gamma \\mathclose{}\\right) + \\Omega $$"
      ],
      "text/plain": [
       "<latexify.ipython_wrappers.LatexifiedFunction at 0x298c61cfd50>"
      ]
     },
     "execution_count": 7,
     "metadata": {},
     "output_type": "execute_result"
    }
   ],
   "source": [
    "# LaTeX representation of a function involving Greek symbols and mathematical operations\n",
    "# Here the math functions are converted \n",
    "@latexify.function(use_math_symbols=True)\n",
    "def greek(alpha, beta, gamma, Omega):\n",
    "  return alpha * beta + math.gamma(gamma) + Omega\n",
    "\n",
    "greek"
   ]
  },
  {
   "cell_type": "code",
   "execution_count": 8,
   "id": "41581ca2",
   "metadata": {},
   "outputs": [
    {
     "data": {
      "text/latex": [
       "$$ \\displaystyle \\begin{array}{l} \\mathrm{discriminant} = b^{2} - 4 a c \\\\ \\mathrm{numerator} = -b + \\sqrt{ \\mathrm{discriminant} } \\\\ \\mathrm{denominator} = 2 a \\\\ f(a, b, c) = \\frac{\\mathrm{numerator}}{\\mathrm{denominator}} \\end{array} $$"
      ],
      "text/plain": [
       "<latexify.ipython_wrappers.LatexifiedFunction at 0x298c605fad0>"
      ]
     },
     "execution_count": 8,
     "metadata": {},
     "output_type": "execute_result"
    }
   ],
   "source": [
    "@latexify.function\n",
    "def f(a, b, c):\n",
    "    discriminant = b**2 - 4 * a * c\n",
    "    numerator = -b + math.sqrt(discriminant)\n",
    "    denominator = 2 * a\n",
    "    return numerator / denominator\n",
    "\n",
    "f"
   ]
  },
  {
   "cell_type": "code",
   "execution_count": 9,
   "id": "bac1eb94",
   "metadata": {},
   "outputs": [
    {
     "data": {
      "text/latex": [
       "$$ \\displaystyle f(a, b, c) = \\frac{-b + \\sqrt{ b^{2} - 4 a c }}{2 a} $$"
      ],
      "text/plain": [
       "<latexify.ipython_wrappers.LatexifiedFunction at 0x298c606f990>"
      ]
     },
     "execution_count": 9,
     "metadata": {},
     "output_type": "execute_result"
    }
   ],
   "source": [
    "# Assignments can be reduced into one expression.\n",
    "@latexify.function(reduce_assignments=True)\n",
    "def f(a, b, c):\n",
    "    discriminant = b**2 - 4 * a * c\n",
    "    numerator = -b + math.sqrt(discriminant)\n",
    "    denominator = 2 * a\n",
    "    return numerator / denominator\n",
    "\n",
    "f"
   ]
  },
  {
   "cell_type": "code",
   "execution_count": 10,
   "id": "84c00de7",
   "metadata": {},
   "outputs": [
    {
     "data": {
      "text/latex": [
       "$$ \\displaystyle \\frac{-b + \\sqrt{ b^{2} - 4 a c }}{2 a} $$"
      ],
      "text/plain": [
       "<latexify.ipython_wrappers.LatexifiedFunction at 0x298c6028f90>"
      ]
     },
     "execution_count": 10,
     "metadata": {},
     "output_type": "execute_result"
    }
   ],
   "source": [
    "# latexify.expression works similarly, but does not output the signature.\n",
    "@latexify.expression\n",
    "def solve(a, b, c):\n",
    "  return (-b + math.sqrt(b**2 - 4*a*c)) / (2*a)\n",
    "\n",
    "solve"
   ]
  },
  {
   "cell_type": "code",
   "execution_count": 11,
   "id": "7fc65d9c",
   "metadata": {},
   "outputs": [
    {
     "data": {
      "text/latex": [
       "$ \\begin{array}{l} \\mathbf{function} \\ \\mathrm{fib}(x) \\\\ \\hspace{1em} \\mathbf{if} \\ x = 0 \\\\ \\hspace{2em} \\mathbf{return} \\ 0 \\\\ \\hspace{1em} \\mathbf{else} \\\\ \\hspace{2em} \\mathbf{if} \\ x = 1 \\\\ \\hspace{3em} \\mathbf{return} \\ 1 \\\\ \\hspace{2em} \\mathbf{else} \\\\ \\hspace{3em} \\mathbf{return} \\ \\mathrm{fib} \\mathopen{}\\left( x - 1 \\mathclose{}\\right) + \\mathrm{fib} \\mathopen{}\\left( x - 2 \\mathclose{}\\right) \\\\ \\hspace{2em} \\mathbf{end \\ if} \\\\ \\hspace{1em} \\mathbf{end \\ if} \\\\ \\mathbf{end \\ function} \\end{array} $"
      ],
      "text/plain": [
       "<latexify.ipython_wrappers.LatexifiedAlgorithm at 0x298c6031510>"
      ]
     },
     "execution_count": 11,
     "metadata": {},
     "output_type": "execute_result"
    }
   ],
   "source": [
    "# latexify.algorithmic generates an algorithmic environment instead of an equation.\n",
    "@latexify.algorithmic\n",
    "def fib(x):\n",
    "  if x == 0:\n",
    "    return 0\n",
    "  elif x == 1:\n",
    "    return 1\n",
    "  else:\n",
    "    return fib(x-1) + fib(x-2)\n",
    "\n",
    "fib"
   ]
  },
  {
   "cell_type": "code",
   "execution_count": 12,
   "id": "cd7bd23e",
   "metadata": {},
   "outputs": [
    {
     "data": {
      "text/latex": [
       "$ \\begin{array}{l} \\mathbf{function} \\ \\mathrm{new\\_func}(x) \\\\ \\hspace{1em} n \\gets 0 \\\\ \\hspace{1em} \\mathbf{while} \\ x > 1 \\\\ \\hspace{2em} n \\gets n + 1 \\\\ \\hspace{2em} \\mathbf{if} \\ x \\mathbin{\\%} 2 = 0 \\\\ \\hspace{3em} x \\gets \\left\\lfloor\\frac{x}{2}\\right\\rfloor \\\\ \\hspace{2em} \\mathbf{else} \\\\ \\hspace{3em} x \\gets 3 x + 1 \\\\ \\hspace{2em} \\mathbf{end \\ if} \\\\ \\hspace{1em} \\mathbf{end \\ while} \\\\ \\hspace{1em} \\mathbf{return} \\ n \\\\ \\mathbf{end \\ function} \\end{array} $"
      ],
      "text/plain": [
       "<latexify.ipython_wrappers.LatexifiedAlgorithm at 0x298c61d5cd0>"
      ]
     },
     "execution_count": 12,
     "metadata": {},
     "output_type": "execute_result"
    }
   ],
   "source": [
    "# Another example: latexify.algorithmic supports usual control flows.\n",
    "@latexify.algorithmic\n",
    "def new_func(x):\n",
    "  n = 0\n",
    "  while x > 1:\n",
    "    n = n + 1\n",
    "    if x % 2 == 0:\n",
    "      x = x // 2\n",
    "    else:\n",
    "      x = 3 * x + 1\n",
    "  return n\n",
    "\n",
    "new_func"
   ]
  }
 ],
 "metadata": {
  "kernelspec": {
   "display_name": "Python 3 (ipykernel)",
   "language": "python",
   "name": "python3"
  },
  "language_info": {
   "codemirror_mode": {
    "name": "ipython",
    "version": 3
   },
   "file_extension": ".py",
   "mimetype": "text/x-python",
   "name": "python",
   "nbconvert_exporter": "python",
   "pygments_lexer": "ipython3",
   "version": "3.11.5"
  }
 },
 "nbformat": 4,
 "nbformat_minor": 5
}
